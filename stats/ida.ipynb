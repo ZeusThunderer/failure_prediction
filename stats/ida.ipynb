{
 "cells": [
  {
   "cell_type": "code",
   "execution_count": null,
   "metadata": {},
   "outputs": [],
   "source": [
    "# Блок 1: Импорт библиотек\n",
    "import pandas as pd\n",
    "import matplotlib.pyplot as plt\n",
    "import os\n",
    "import glob\n",
    "import seaborn as sns\n",
    "from tqdm import tqdm\n",
    "\n",
    "# Настройки отображения\n",
    "plt.style.use('ggplot')\n",
    "pd.options.display.max_columns = 10"
   ]
  },
  {
   "cell_type": "code",
   "execution_count": null,
   "metadata": {},
   "outputs": [],
   "source": [
    "# Блок 2: Функция для загрузки данных\n",
    "def load_sensor_data(file_path):\n",
    "    \"\"\"Загружает данные из файла с обработкой метаданных и основного DataFrame\"\"\"\n",
    "    # Чтение метаданных\n",
    "    metadata = {}\n",
    "    with open(file_path, 'r', encoding='cp1251') as f:\n",
    "        for line in f:\n",
    "            if line.startswith('Время,'):  # Конец метаданных\n",
    "                break\n",
    "            if ',' in line:\n",
    "                key, val = line.strip().split(',', 1)\n",
    "                metadata[key] = val\n",
    "    \n",
    "    # Чтение основного DataFrame\n",
    "    df = pd.read_csv(file_path, \n",
    "                    encoding='cp1251',\n",
    "                    skiprows=len(metadata)+1, \n",
    "                    na_values=['. . . . .', ' '],\n",
    "                    low_memory=False)\n",
    "    \n",
    "    # Парсинг диапазонов значений\n",
    "    ranges = df.iloc[0].str.split('_', expand=True).T\n",
    "    ranges.columns = df.columns\n",
    "    ranges = ranges.rename(index={0: 'min', 1: 'max'})\n",
    "    \n",
    "    df = df.iloc[1:].reset_index(drop=True)\n",
    "    df = df.apply(pd.to_numeric, errors='coerce')\n",
    "    \n",
    "    return metadata, df, ranges"
   ]
  },
  {
   "cell_type": "code",
   "execution_count": null,
   "metadata": {},
   "outputs": [],
   "source": [
    "# Блок 3: Визуализация данных для одного файла\n",
    "def plot_sensor_data(df, title=''):\n",
    "    \"\"\"Визуализация временных рядов\"\"\"\n",
    "    plt.figure(figsize=(15, 20))\n",
    "    for i, col in enumerate(df.columns[1:], 1):  # Пропускаем колонку времени\n",
    "        plt.subplot(len(df.columns)-1, 1, i)\n",
    "        plt.plot(df['Время'], df[col])\n",
    "        plt.title(col)\n",
    "        plt.grid(True)\n",
    "    plt.suptitle(title, y=1.02)\n",
    "    plt.tight_layout()\n",
    "    plt.show()"
   ]
  },
  {
   "cell_type": "code",
   "execution_count": null,
   "metadata": {},
   "outputs": [],
   "source": [
    "# Блок 4: Расчет метрик\n",
    "def calculate_metrics(df, ranges):\n",
    "    \"\"\"Расчет основных метрик для анализа\"\"\"\n",
    "    metrics = pd.DataFrame({\n",
    "        'mean': df.mean(),\n",
    "        'std': df.std(),\n",
    "        'min': df.min(),\n",
    "        'max': df.max(),\n",
    "        'range_min': ranges.loc['min'].values,\n",
    "        'range_max': ranges.loc['max'].values\n",
    "    })\n",
    "    \n",
    "    # Проверка выхода за пределы диапазона\n",
    "    metrics['out_of_range'] = (df.min() < metrics['range_min'].astype(float)) | \\\n",
    "                             (df.max() > metrics['range_max'].astype(float))\n",
    "    \n",
    "    return metrics"
   ]
  },
  {
   "cell_type": "code",
   "execution_count": null,
   "metadata": {},
   "outputs": [],
   "source": [
    "# Блок 5: Обработка всех файлов\n",
    "all_files = glob.glob('./data/**/*_аналоговые.csv', recursive=True)\n",
    "all_metrics = []\n",
    "\n",
    "for file in tqdm(all_files):\n",
    "    # Загрузка данных\n",
    "    metadata, df, ranges = load_sensor_data(file)\n",
    "    \n",
    "    # Визуализация (можно закомментировать для многих файлов)\n",
    "    plot_sensor_data(df, title=os.path.basename(file))\n",
    "    \n",
    "    # Расчет метрик\n",
    "    metrics = calculate_metrics(df, ranges)\n",
    "    metrics['file'] = os.path.basename(file)\n",
    "    all_metrics.append(metrics.reset_index())\n",
    "    \n",
    "# Объединение всех метрик\n",
    "combined_metrics = pd.concat(all_metrics)"
   ]
  },
  {
   "cell_type": "code",
   "execution_count": null,
   "metadata": {},
   "outputs": [],
   "source": [
    "# Блок 6: Анализ всех данных\n",
    "print(f\"Всего обработано файлов: {len(all_files)}\")\n",
    "print(\"\\nПример метаданных:\")\n",
    "print(metadata)\n",
    "\n",
    "# Сводная статистика по всем файлам\n",
    "summary_stats = combined_metrics.groupby('index').agg({\n",
    "    'mean': ['mean', 'std'],\n",
    "    'std': ['mean', 'std'],\n",
    "    'out_of_range': 'sum'\n",
    "})\n",
    "\n",
    "display(summary_stats)\n",
    "\n",
    "# Визуализация распределений параметров\n",
    "plt.figure(figsize=(15, 10))\n",
    "sns.boxplot(data=combined_metrics, x='index', y='mean')\n",
    "plt.xticks(rotation=90)\n",
    "plt.title('Распределение средних значений по всем файлам')\n",
    "plt.show()"
   ]
  },
  {
   "cell_type": "code",
   "execution_count": null,
   "metadata": {},
   "outputs": [],
   "source": [
    "# Блок 7: Анализ корреляций (на примере последнего файла)\n",
    "_, df, _ = load_sensor_data(all_files[0])\n",
    "corr_matrix = df.corr()\n",
    "\n",
    "plt.figure(figsize=(12, 10))\n",
    "sns.heatmap(corr_matrix, annot=True, fmt=\".2f\", cmap='coolwarm')\n",
    "plt.title('Матрица корреляций (пример для одного файла)')\n",
    "plt.show()"
   ]
  }
 ],
 "metadata": {
  "kernelspec": {
   "display_name": "Python 3",
   "language": "python",
   "name": "python3"
  },
  "language_info": {
   "codemirror_mode": {
    "name": "ipython",
    "version": 3
   },
   "file_extension": ".py",
   "mimetype": "text/x-python",
   "name": "python",
   "nbconvert_exporter": "python",
   "pygments_lexer": "ipython3",
   "version": "3.9.0"
  }
 },
 "nbformat": 4,
 "nbformat_minor": 2
}
